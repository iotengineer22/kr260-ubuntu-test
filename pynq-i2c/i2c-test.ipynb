{
 "cells": [
  {
   "cell_type": "code",
   "execution_count": 1,
   "id": "19eb1479",
   "metadata": {},
   "outputs": [],
   "source": [
    "# I2C test in Programmable Logic (PL)"
   ]
  },
  {
   "cell_type": "code",
   "execution_count": null,
   "id": "93211468",
   "metadata": {},
   "outputs": [],
   "source": []
  },
  {
   "cell_type": "code",
   "execution_count": 2,
   "id": "b8f127de",
   "metadata": {},
   "outputs": [
    {
     "name": "stdout",
     "output_type": "stream",
     "text": [
      "/root/jupyter_notebooks/pynq-i2c\r\n"
     ]
    }
   ],
   "source": [
    "!pwd"
   ]
  },
  {
   "cell_type": "code",
   "execution_count": 3,
   "id": "a2b53141",
   "metadata": {},
   "outputs": [
    {
     "name": "stdout",
     "output_type": "stream",
     "text": [
      "dpu.bit  dpu.hwh  dpu.xclbin  i2c-test.ipynb\r\n"
     ]
    }
   ],
   "source": [
    "!ls"
   ]
  },
  {
   "cell_type": "code",
   "execution_count": null,
   "id": "e7153786",
   "metadata": {},
   "outputs": [],
   "source": []
  },
  {
   "cell_type": "code",
   "execution_count": 4,
   "id": "1b2b0b22",
   "metadata": {},
   "outputs": [
    {
     "data": {
      "application/javascript": [
       "\n",
       "try {\n",
       "require(['notebook/js/codecell'], function(codecell) {\n",
       "  codecell.CodeCell.options_default.highlight_modes[\n",
       "      'magic_text/x-csrc'] = {'reg':[/^%%microblaze/]};\n",
       "  Jupyter.notebook.events.one('kernel_ready.Kernel', function(){\n",
       "      Jupyter.notebook.get_cells().map(function(cell){\n",
       "          if (cell.cell_type == 'code'){ cell.auto_highlight(); } }) ;\n",
       "  });\n",
       "});\n",
       "} catch (e) {};\n"
      ]
     },
     "metadata": {},
     "output_type": "display_data"
    },
    {
     "data": {
      "application/javascript": [
       "\n",
       "try {\n",
       "require(['notebook/js/codecell'], function(codecell) {\n",
       "  codecell.CodeCell.options_default.highlight_modes[\n",
       "      'magic_text/x-csrc'] = {'reg':[/^%%pybind11/]};\n",
       "  Jupyter.notebook.events.one('kernel_ready.Kernel', function(){\n",
       "      Jupyter.notebook.get_cells().map(function(cell){\n",
       "          if (cell.cell_type == 'code'){ cell.auto_highlight(); } }) ;\n",
       "  });\n",
       "});\n",
       "} catch (e) {};\n"
      ]
     },
     "metadata": {},
     "output_type": "display_data"
    }
   ],
   "source": [
    "from pynq import Overlay\n",
    "from pynq.lib import AxiIIC\n",
    "\n",
    "ol = Overlay(\"/root/jupyter_notebooks/pynq-i2c/dpu.bit\")\n",
    "iic = AxiIIC(ol.ip_dict['axi_iic_0'])"
   ]
  },
  {
   "cell_type": "code",
   "execution_count": null,
   "id": "63a041b0",
   "metadata": {},
   "outputs": [],
   "source": []
  },
  {
   "cell_type": "code",
   "execution_count": 6,
   "id": "9527a7ce",
   "metadata": {},
   "outputs": [
    {
     "data": {
      "text/plain": [
       "3"
      ]
     },
     "execution_count": 6,
     "metadata": {},
     "output_type": "execute_result"
    }
   ],
   "source": [
    "device_address = 0x50  # I2C device address\n",
    "mem_address = [0x01, 0x01]  # Memory address to write to\n",
    "data_to_write = [0x5A]  # Data to write\n",
    "\n",
    "# Combine memory address and data to create the data to be sent\n",
    "write_data = mem_address + data_to_write\n",
    "\n",
    "iic.send(device_address, write_data, length=len(write_data), option=0)"
   ]
  },
  {
   "cell_type": "code",
   "execution_count": 7,
   "id": "08b1c4c9",
   "metadata": {},
   "outputs": [],
   "source": [
    "num_bytes = 1  # Number of bytes to read (only 1 byte, 0x5A)"
   ]
  },
  {
   "cell_type": "code",
   "execution_count": 8,
   "id": "ef92051b",
   "metadata": {},
   "outputs": [
    {
     "data": {
      "text/plain": [
       "1"
      ]
     },
     "execution_count": 8,
     "metadata": {},
     "output_type": "execute_result"
    }
   ],
   "source": [
    "read_data=[]\n",
    "iic.send(device_address, mem_address, length=len(mem_address), option=1)\n",
    "iic.receive(device_address, read_data, num_bytes)"
   ]
  },
  {
   "cell_type": "code",
   "execution_count": null,
   "id": "de3eef37",
   "metadata": {},
   "outputs": [],
   "source": []
  }
 ],
 "metadata": {
  "kernelspec": {
   "display_name": "Python 3 (ipykernel)",
   "language": "python",
   "name": "python3"
  },
  "language_info": {
   "codemirror_mode": {
    "name": "ipython",
    "version": 3
   },
   "file_extension": ".py",
   "mimetype": "text/x-python",
   "name": "python",
   "nbconvert_exporter": "python",
   "pygments_lexer": "ipython3",
   "version": "3.10.12"
  }
 },
 "nbformat": 4,
 "nbformat_minor": 5
}
